{
 "cells": [
  {
   "cell_type": "markdown",
   "metadata": {},
   "source": [
    "En este archivo puedes escribir lo que estimes conveniente. Te recomendamos detallar tu solución y todas las suposiciones que estás considerando. Aquí puedes ejecutar las funciones que definiste en los otros archivos de la carpeta src, medir el tiempo, memoria, etc."
   ]
  },
  {
   "cell_type": "code",
   "execution_count": 13,
   "metadata": {},
   "outputs": [],
   "source": [
    "file_path = \"farmers-protest-tweets-2021-2-4.json\""
   ]
  },
  {
   "cell_type": "markdown",
   "metadata": {},
   "source": [
    "## Consideraciones\n",
    "\n",
    "En todos los casos abordados, se parte del supuesto de que los datos han pasado por una exhaustiva inspección de calidad previa. Esto implica que se encuentran en un estado óptimo, con todas las etiquetas correspondientes debidamente asignadas y sin ningún tipo de corrupción.\n",
    "\n",
    "## Posibles mejoras y uso de GCP\n",
    "\n",
    "Considerando los requerimientos del proyecto, una mejora significativa podría ser la adopción de herramientas ofrecidas por Google Cloud Platform (GCP). Si bien se han propuesto soluciones utilizando BigTable para el almacenamiento de datos semiestructurados, como los tweets, resulta pertinente señalar que esta elección podría no ser la más óptima.\n",
    "\n",
    "Por ejemplo, los tweets contienen una variedad de metadatos y relaciones que podrían beneficiarse de un almacenamiento más estructurado, como el que proporciona BigQuery. Por lo tanto, una mejora potencial sería aprovechar BigQuery para el almacenamiento de la información, ya que está especialmente diseñado para manejar grandes volúmenes de datos y permite consultas rápidas y flexibles sobre ellos.\n",
    "\n",
    "En cuanto al procesamiento de los datos, se podría seguir una lógica escalonada para lograr una mayor eficiencia:\n",
    "\n",
    "1.  Definición de la consulta en BigQuery: Especificar la consulta necesaria para obtener los datos relevantes.\n",
    "2.  Ejecución de la consulta desde Dataflow: Utilizar Dataflow para ejecutar la consulta definida en BigQuery y obtener los resultados de manera eficiente y escalable.\n",
    "3.  Procesamiento de los resultados: Aplicar transformaciones y operaciones de procesamiento necesarias, como la extracción de emojis, la identificación de usuarios y fechas, sobre los datos obtenidos.\n",
    "4.  Escritura de resultados: Si el procesamiento es un proceso recurrente, almacenar los resultados en una plataforma de almacenamiento de datos adecuada, como Cloud Storage o BigQuery.\n",
    "\n",
    "Esta aproximación, además de aprovechar la potencia y la escalabilidad de las herramientas de GCP, también facilitaría la integración y el mantenimiento del sistema en el futuro."
   ]
  },
  {
   "cell_type": "markdown",
   "metadata": {},
   "source": [
    "# Q1_TIME\n",
    "\n",
    "La optimización del tiempo de ejecución de q1_time se logró reduciendo significativamente el tiempo de procesamiento mediante la implementación de técnicas eficientes en el manejo de datos.\n",
    "\n",
    "Para mejorar la eficiencia, se adoptó una estrategia más sofisticada que aprovechaba el poder del multiprocesamiento. En esta versión optimizada, se realizó una lectura de los núcleos disponibles para la ejecución del código, permitiendo así el procesamiento en paralelo. Esto significó dividir la lista de datos en lotes de igual tamaño para ejecutar la función de manera simultánea y reducir el tiempo total de ejecución.\n",
    "\n",
    "La determinación del tamaño de estos lotes se realizó dividiendo la cantidad total de datos por la cantidad de núcleos disponibles para la ejecución. Si el tamaño del lote era menor que la cantidad de núcleos, se optó por utilizar un único lote para evitar el desperdicio de recursos.\n",
    "\n",
    "Posteriormente, utilizando funciones lambda, se identificaron las 10 fechas con la mayor cantidad de tweets. A partir de estas fechas, se procedió a determinar los usuarios con la mayor cantidad de tweets en cada una de ellas."
   ]
  },
  {
   "cell_type": "code",
   "execution_count": 14,
   "metadata": {},
   "outputs": [
    {
     "name": "stdout",
     "output_type": "stream",
     "text": [
      "[(datetime.date(2021, 2, 12), 'RanbirS00614606'), (datetime.date(2021, 2, 13), 'MaanDee08215437'), (datetime.date(2021, 2, 17), 'RaaJVinderkaur'), (datetime.date(2021, 2, 16), 'jot__b'), (datetime.date(2021, 2, 14), 'rebelpacifist'), (datetime.date(2021, 2, 18), 'neetuanjle_nitu'), (datetime.date(2021, 2, 15), 'jot__b'), (datetime.date(2021, 2, 20), 'MangalJ23056160'), (datetime.date(2021, 2, 23), 'Surrypuria'), (datetime.date(2021, 2, 19), 'Preetm91')]\n",
      "3.8702001571655273 segundos\n"
     ]
    }
   ],
   "source": [
    "from q1_time import q1_time\n",
    "import time\n",
    "\n",
    "tiempo_comienzo = time.time()\n",
    "print(q1_time(file_path))\n",
    "tiempo_final = time.time()\n",
    "print(str(tiempo_final-tiempo_comienzo) + ' segundos')"
   ]
  },
  {
   "cell_type": "markdown",
   "metadata": {},
   "source": [
    "# Q1 MEMORY\n",
    "\n",
    "La función q1_memory ha sido diseñada para optimizar el uso de memoria al procesar grandes conjuntos de datos contenidos en el archivo JSON.\n",
    "\n",
    "Al abrir el archivo especificado en la ruta proporcionada, esta función procesa cada línea del archivo de forma individual utilizando el paquete ujson. Esta estrategia permite minimizar el uso de memoria al cargar y procesar los datos de forma incremental, en lugar de cargar todo el archivo en memoria de una vez.\n",
    "\n",
    "Cada línea del archivo JSON se convierte en un objeto JSON utilizando la función ujson.loads(). A continuación, se extraen la fecha del tweet y el nombre de usuario asociado.\n",
    "\n",
    "Para almacenar y procesar la actividad por fecha y usuario, se utiliza un diccionario predeterminado de defaultdict(Counter). Este diccionario permite contar eficientemente la actividad de cada usuario en cada fecha, utilizando la estructura de datos Counter para realizar un seguimiento de los conteos.\n",
    "\n",
    "Una vez procesadas todas las líneas del archivo y almacenada la actividad por fecha y usuario, se utiliza la función heapq.nlargest() para encontrar las 10 fechas más activas de manera eficiente.\n",
    "\n",
    "Para cada fecha seleccionada, se determina el usuario más activo y se agrega al resultado final como una tupla que contiene la fecha y el usuario más activo.\n"
   ]
  },
  {
   "cell_type": "code",
   "execution_count": 38,
   "metadata": {},
   "outputs": [
    {
     "name": "stdout",
     "output_type": "stream",
     "text": [
      "[(datetime.date(2021, 2, 12), 'RanbirS00614606'), (datetime.date(2021, 2, 13), 'MaanDee08215437'), (datetime.date(2021, 2, 17), 'RaaJVinderkaur'), (datetime.date(2021, 2, 16), 'jot__b'), (datetime.date(2021, 2, 14), 'rebelpacifist'), (datetime.date(2021, 2, 18), 'neetuanjle_nitu'), (datetime.date(2021, 2, 15), 'jot__b'), (datetime.date(2021, 2, 20), 'MangalJ23056160'), (datetime.date(2021, 2, 23), 'Surrypuria'), (datetime.date(2021, 2, 19), 'Preetm91')]\n",
      "3.28125 Mb\n"
     ]
    }
   ],
   "source": [
    "from q1_memory import q1_memory\n",
    "from memory_profiler import memory_usage\n",
    "\n",
    "inicio_memoria = memory_usage()[0]\n",
    "print(q1_memory(file_path))\n",
    "fin_memoria = memory_usage()[0]\n",
    "print(str(fin_memoria-inicio_memoria) + ' Mb')"
   ]
  },
  {
   "cell_type": "markdown",
   "metadata": {},
   "source": [
    "# Q2 TIME\n",
    "\n",
    "La función q2_memory ha sido desarrollada con el objetivo de contar la frecuencia de emojis en los tweets presentes en un archivo JSON, optimizando el uso de memoria durante este proceso.\n",
    "\n",
    "Cada línea del archivo JSON se convierte en un objeto JSON utilizando la función ujson.loads(). A continuación, se extrae el contenido del tweet y se utilizan expresiones regulares Unicode para identificar y extraer los emojis presentes en el texto utilizando la función extract_emojis. El uso de expresiones regulares Unicode garantiza una identificación precisa de los emojis en el texto del tweet, lo que contribuye a la eficiencia general de la función. Por otro lado, el uso de expresiones regulares arrojo el mejor resultado en temas de tiempos de procesamiento en relacion a otras librerias como emoji o emojis.\n",
    "\n",
    "Para almacenar y procesar la frecuencia de cada emoji, se utiliza un objeto Counter de la biblioteca estándar de Python. Este objeto permite contar eficientemente la frecuencia de cada emoji encontrado en los tweets.\n",
    "\n",
    "Una vez procesadas todas las líneas del archivo y contada la frecuencia de los emojis, se utiliza el método most_common() del objeto Counter para encontrar los 10 emojis más utilizados de manera eficiente."
   ]
  },
  {
   "cell_type": "code",
   "execution_count": 33,
   "metadata": {},
   "outputs": [
    {
     "name": "stdout",
     "output_type": "stream",
     "text": [
      "[('🙏', 7286), ('😂', 3072), ('🚜', 2972), ('✊', 2411), ('🌾', 2363), ('🇮', 2096), ('🇳', 2094), ('❤', 1779), ('🤣', 1668), ('👇', 1108)]\n",
      "3.9355852603912354 segundos\n"
     ]
    }
   ],
   "source": [
    "from q2_time import q2_time\n",
    "import time\n",
    "\n",
    "tiempo_comienzo = time.time()\n",
    "print(q2_time(file_path))\n",
    "tiempo_final = time.time()\n",
    "print(str(tiempo_final-tiempo_comienzo) + ' segundos')"
   ]
  },
  {
   "cell_type": "markdown",
   "metadata": {},
   "source": [
    "# Q2_MEMORY\n",
    "\n",
    "La función q2_memory se encarga de analizar un archivo JSON que contiene tweets para contar y devolver los 10 emojis más utilizados en el contenido de esos tweets.\n",
    "\n",
    "Al abrir el archivo especificado en la ruta proporcionada, la función lee cada línea del archivo de manera secuencial utilizando la función ujson.loads() para cargar cada tweet como un objeto JSON, lo cual lo hace mas efectivo en terminos de memoria. Luego, extrae el contenido del tweet y utiliza la función extract_emojis() para obtener una lista de emojis presentes en ese contenido.\n",
    "\n",
    "Para llevar un seguimiento de la frecuencia de cada emoji, se utiliza un contador (Counter()) que se actualiza con los emojis extraídos de cada tweet.\n",
    "\n",
    "Finalmente, la función devuelve una lista de las 10 tuplas más comunes, donde cada tupla contiene un emoji y su frecuencia de aparición en los tweets."
   ]
  },
  {
   "cell_type": "code",
   "execution_count": 39,
   "metadata": {},
   "outputs": [
    {
     "name": "stdout",
     "output_type": "stream",
     "text": [
      "[('🙏', 7286), ('😂', 3072), ('🚜', 2972), ('✊', 2411), ('🌾', 2363), ('🏻', 2080), ('❤', 1779), ('🤣', 1668), ('🏽', 1218), ('👇', 1108)]\n",
      "-1.23828125 Mb\n"
     ]
    }
   ],
   "source": [
    "from q2_memory    import q2_memory\n",
    "from memory_profiler import memory_usage\n",
    "\n",
    "inicio_memoria = memory_usage()[0]\n",
    "print(q2_memory(file_path))\n",
    "fin_memoria = memory_usage()[0]\n",
    "print(str(fin_memoria-inicio_memoria) + ' Mb')"
   ]
  },
  {
   "cell_type": "markdown",
   "metadata": {},
   "source": [
    "# Q3_TIME\n",
    "\n",
    "La función q3_time se encarga de procesar un archivo de texto para encontrar los usuarios más influyentes basados en menciones. Utiliza expresiones regulares para buscar y extraer las menciones de usuario en cada línea del archivo.\n",
    "\n",
    "Al abrir el archivo especificado en la ruta proporcionada, la función itera sobre cada línea y busca todas las menciones de usuario utilizando la expresión regular @(\\w+). Cada vez que se encuentra una mención, se incrementa el contador de menciones para ese usuario en un diccionario user_mentions, que almacena el recuento de menciones de cada usuario.\n",
    "\n",
    "Una vez procesadas todas las líneas del archivo y recopiladas las menciones de usuario, se ordenan los usuarios por la cantidad de menciones en orden descendente utilizando la función sorted(). Luego, se devuelven las 10 tuplas más mencionadas, donde cada tupla contiene el nombre de usuario y la cantidad de menciones."
   ]
  },
  {
   "cell_type": "code",
   "execution_count": 30,
   "metadata": {},
   "outputs": [
    {
     "name": "stdout",
     "output_type": "stream",
     "text": [
      "[('narendramodi', 5300), ('Kisanektamorcha', 4090), ('RakeshTikaitBKU', 3728), ('PMOIndia', 3114), ('RahulGandhi', 2704), ('GretaThunberg', 2622), ('DelhiPolice', 2254), ('rihanna', 2246), ('RaviSinghKA', 2242), ('INCIndia', 2236)]\n",
      "1.2904407978057861 segundos\n"
     ]
    }
   ],
   "source": [
    "from q3_time import q3_time\n",
    "import time\n",
    "\n",
    "tiempo_comienzo = time.time()\n",
    "print(q3_time(file_path))\n",
    "tiempo_final = time.time()\n",
    "print(str(tiempo_final-tiempo_comienzo) + ' segundos')"
   ]
  },
  {
   "cell_type": "markdown",
   "metadata": {},
   "source": [
    "# Q3_MEMORY\n",
    "\n",
    "La función q3_memory está diseñada para analizar un archivo de texto y encontrar los usuarios más influyentes basados en menciones. A diferencia de la función q3_time, esta versión optimiza el uso de memoria al procesar el archivo de una manera más eficiente.\n",
    "\n",
    "Para lograr esto, la función utiliza un enfoque diferente para contar las menciones de usuario:\n",
    "\n",
    "Conjunto de Usuarios Únicos: Se inicializa un conjunto unique_users para almacenar usuarios únicos con menciones. Este enfoque elimina la necesidad de almacenar cada mención individualmente, reduciendo así el uso de memoria al evitar duplicados.\n",
    "\n",
    "Diccionario de Conteo de Menciones: Se utiliza un diccionario user_mentions para almacenar los recuentos de menciones de usuario. Cada vez que se encuentra una mención en el archivo, se incrementa el contador correspondiente en el diccionario.\n",
    "\n",
    "Una vez procesado todo el archivo y recopiladas las menciones de usuario, se ordenan los usuarios por la cantidad de menciones en orden descendente utilizando la función sorted(). Luego, se devuelven las 10 tuplas más mencionadas, donde cada tupla contiene el nombre de usuario y la cantidad de menciones.\n",
    "\n",
    "Este enfoque optimizado minimiza el uso de memoria al procesar el archivo de texto de manera más eficiente, lo que permite manejar archivos de gran tamaño sin agotar los recursos de memoria disponibles."
   ]
  },
  {
   "cell_type": "code",
   "execution_count": 34,
   "metadata": {},
   "outputs": [
    {
     "name": "stdout",
     "output_type": "stream",
     "text": [
      "[('narendramodi', 3364), ('PMOIndia', 2088), ('Kisanektamorcha', 1966), ('RakeshTikaitBKU', 1918), ('GretaThunberg', 1882), ('punyaab\",', 1722), ('DelhiPolice', 1638), ('jazzyb', 1522), ('RahulGandhi', 1498), ('rihanna', 1496)]\n",
      "0.51171875 Mb\n"
     ]
    }
   ],
   "source": [
    "from q3_memory    import q3_memory\n",
    "from memory_profiler import memory_usage\n",
    "\n",
    "inicio_memoria = memory_usage()[0]\n",
    "print(q3_memory(file_path))\n",
    "fin_memoria = memory_usage()[0]\n",
    "print(str(fin_memoria-inicio_memoria) + ' Mb')"
   ]
  }
 ],
 "metadata": {
  "kernelspec": {
   "display_name": "Python 3",
   "language": "python",
   "name": "python3"
  },
  "language_info": {
   "codemirror_mode": {
    "name": "ipython",
    "version": 3
   },
   "file_extension": ".py",
   "mimetype": "text/x-python",
   "name": "python",
   "nbconvert_exporter": "python",
   "pygments_lexer": "ipython3",
   "version": "3.11.7"
  },
  "orig_nbformat": 4
 },
 "nbformat": 4,
 "nbformat_minor": 2
}
